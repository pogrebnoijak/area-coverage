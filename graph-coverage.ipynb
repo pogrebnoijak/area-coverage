{
 "cells": [
  {
   "cell_type": "code",
   "execution_count": 324,
   "id": "f7c79172",
   "metadata": {},
   "outputs": [
    {
     "name": "stdout",
     "output_type": "stream",
     "text": [
      "Requirement already satisfied: more-itertools in /home/stephen/.anaconda3/lib/python3.9/site-packages (9.0.0)\r\n",
      "Requirement already satisfied: networkx in /home/stephen/.local/lib/python3.9/site-packages (2.8.7)\r\n"
     ]
    }
   ],
   "source": [
    "!pip install more-itertools networkx"
   ]
  },
  {
   "cell_type": "code",
   "execution_count": 1023,
   "id": "b5f1b4a0",
   "metadata": {},
   "outputs": [],
   "source": [
    "import math\n",
    "import heapq as hpq\n",
    "import time\n",
    "from typing import List, Tuple, Union\n",
    "\n",
    "import numpy as np\n",
    "import pandas as pd\n",
    "import scipy.stats as ss\n",
    "from itertools import combinations\n",
    "from more_itertools import powerset\n",
    "import networkx as nx\n",
    "\n",
    "import matplotlib.pyplot as plt"
   ]
  },
  {
   "cell_type": "code",
   "execution_count": 472,
   "id": "fbf6d86b",
   "metadata": {},
   "outputs": [],
   "source": [
    "def semi_connected(G: nx.MultiGraph):\n",
    "    comp = { v: None for v in G.nodes }\n",
    "    nontrivial_cnt = 0\n",
    "    for label, component in enumerate(nx.connected_components(G)):\n",
    "        for v in component:\n",
    "            comp[v] = label\n",
    "        \n",
    "        nontrivial_cnt += int(len(component) > 1)\n",
    "        \n",
    "    return nontrivial_cnt <= 1\n"
   ]
  },
  {
   "cell_type": "code",
   "execution_count": 526,
   "id": "6fc2af2e",
   "metadata": {},
   "outputs": [],
   "source": [
    "def eulerize(G: nx.MultiGraph, return_graph = True):\n",
    "    \"\"\"\n",
    "    Based on NetworkX.eulerize\n",
    "    \n",
    "    Transforms a graph into an Eulerian graph\n",
    "\n",
    "    Parameters\n",
    "    ----------\n",
    "    G : NetworkX graph\n",
    "       An undirected graph\n",
    "\n",
    "    Returns\n",
    "    -------\n",
    "    G : NetworkX multigraph\n",
    "\n",
    "    Raises\n",
    "    ------\n",
    "    NetworkXError\n",
    "       If the graph is not connected.\n",
    "\n",
    "    \"\"\"\n",
    "    H = nx.MultiGraph(G)\n",
    "    \n",
    "    if (H.order() == 0):\n",
    "        raise nx.NetworkXPointlessConcept(\"Cannot Eulerize null graph\")\n",
    "        \n",
    "    #if (not nx.is_connected(H)):\n",
    "    #    raise nx.NetworkXError(\"G is not connected\")\n",
    "    \n",
    "    if (not semi_connected(H)):\n",
    "        raise nx.NetworkXError(\"G is not semi-connected\")\n",
    "        \n",
    "    odd_degree_nodes = [n for n, d in H.degree() if d % 2 == 1]\n",
    "    if (len(odd_degree_nodes) == 0):\n",
    "        return (H, 0) if (return_graph) else 0\n",
    "\n",
    "    # get all shortest paths between vertices of odd degree\n",
    "    '''odd_deg_pairs_paths = [\n",
    "        (m, {n: (\n",
    "            nx.shortest_path(G, source = m, target = n, weight = \"weight\"),\n",
    "            nx.shortest_path_length(G, source = m, target = n, weight = \"weight\")\n",
    "        )})\n",
    "        for m, n in combinations(odd_degree_nodes, 2)\n",
    "    ]'''\n",
    "    \n",
    "    comp = { v: None for v in H.nodes }\n",
    "    for label, component in enumerate(nx.connected_components(H)):\n",
    "        for v in component:\n",
    "            comp[v] = label\n",
    "\n",
    "    odd_deg_pairs_paths = []\n",
    "    for m, n in combinations(odd_degree_nodes, 2):\n",
    "        if (comp[m] == comp[n]):\n",
    "            odd_deg_pairs_paths.append((m, {n: (\n",
    "                nx.shortest_path(G, source = m, target = n, weight = \"weight\"),\n",
    "                nx.shortest_path_length(G, source = m, target = n, weight = \"weight\")\n",
    "            )}))\n",
    "\n",
    "    # build additional edges between odd vertices\n",
    "    Gp = nx.Graph()\n",
    "    for n, Ps in odd_deg_pairs_paths:\n",
    "        for m, (P, W) in Ps.items():\n",
    "            if (n != m):\n",
    "                Gp.add_edge(m, n, weight = W, path = P)\n",
    "                \n",
    "    # find the minimum weight matching of edges in the weighted graph\n",
    "    best_matching = nx.Graph(list(nx.min_weight_matching(Gp)))\n",
    "    \n",
    "    # duplicate each edge along each path in the set of paths in Gp\n",
    "    additional_weight = 0\n",
    "    for m, n in best_matching.edges():\n",
    "        additional_weight += Gp[m][n][\"weight\"]\n",
    "        \n",
    "        if (return_graph):\n",
    "            path = Gp[m][n][\"path\"]\n",
    "            H.add_edges_from(nx.utils.pairwise(path))\n",
    "\n",
    "    return (H, additional_weight) if (return_graph) else additional_weight\n"
   ]
  },
  {
   "cell_type": "code",
   "execution_count": 527,
   "id": "ae9b2e75",
   "metadata": {},
   "outputs": [
    {
     "name": "stdout",
     "output_type": "stream",
     "text": [
      "False True\n",
      "False True\n"
     ]
    }
   ],
   "source": [
    "G = nx.complete_graph(10)\n",
    "H = nx.eulerize(G)\n",
    "print(nx.is_eulerian(G), nx.is_eulerian(H))\n",
    "H, _ = eulerize(G)\n",
    "print(nx.is_eulerian(G), nx.is_eulerian(H))"
   ]
  },
  {
   "cell_type": "code",
   "execution_count": 738,
   "id": "7792c34f",
   "metadata": {},
   "outputs": [
    {
     "data": {
      "image/png": "[encoded data removed]",
      "text/plain": [
       "<Figure size 432x288 with 1 Axes>"
      ]
     },
     "metadata": {},
     "output_type": "display_data"
    }
   ],
   "source": [
    "G = nx.Graph()\n",
    "\n",
    "G.add_edge(\"a\", \"b\", weight=0.6)\n",
    "G.add_edge(\"a\", \"c\", weight=0.2)\n",
    "G.add_edge(\"c\", \"d\", weight=0.1)\n",
    "G.add_edge(\"c\", \"e\", weight=0.7)\n",
    "G.add_edge(\"c\", \"f\", weight=0.9)\n",
    "G.add_edge(\"a\", \"d\", weight=0.3)\n",
    "\n",
    "elarge = [(u, v) for (u, v, d) in G.edges(data=True) if d[\"weight\"] in [0.3, 0.7, 0.9]]\n",
    "esmall = [(u, v) for (u, v, d) in G.edges(data=True) if d[\"weight\"] in [0.1, 0.2, 0.6]]\n",
    "\n",
    "pos = nx.spring_layout(G, seed=7)  # positions for all nodes - seed for reproducibility\n",
    "\n",
    "# nodes\n",
    "nx.draw_networkx_nodes(G, pos, node_size=700)\n",
    "\n",
    "# edges\n",
    "nx.draw_networkx_edges(G, pos, edgelist=elarge, width=6)\n",
    "nx.draw_networkx_edges(\n",
    "    G, pos, edgelist=esmall, width=6, alpha=0.5, edge_color=\"b\", style=\"dashed\"\n",
    ")\n",
    "\n",
    "# node labels\n",
    "nx.draw_networkx_labels(G, pos, font_size=20, font_family=\"sans-serif\")\n",
    "# edge weight labels\n",
    "edge_labels = nx.get_edge_attributes(G, \"weight\")\n",
    "nx.draw_networkx_edge_labels(G, pos, edge_labels)\n",
    "\n",
    "ax = plt.gca()\n",
    "ax.margins(0.08)\n",
    "plt.axis(\"off\")\n",
    "plt.tight_layout()\n",
    "plt.show()"
   ]
  },
  {
   "cell_type": "code",
   "execution_count": 739,
   "id": "25c39b29",
   "metadata": {},
   "outputs": [],
   "source": [
    "def ChinesePostmanProblem(G: nx.MultiGraph, return_cycle = True):\n",
    "    if (return_cycle):\n",
    "        H, w = eulerize(G)\n",
    "        w += G.size(weight = \"weight\")\n",
    "        \n",
    "        deg = dict(H.degree)\n",
    "        for v, d in deg.items():\n",
    "            if (d == 0):\n",
    "                H.remove_node(v)\n",
    "        \n",
    "        cycle, _ = zip(*list(nx.eulerian_circuit(H)))\n",
    "        return list(cycle), w\n",
    "    \n",
    "    else:\n",
    "        return eulerize(G, return_graph = False) + G.size(weight = \"weight\")\n"
   ]
  },
  {
   "cell_type": "code",
   "execution_count": 740,
   "id": "cbe1da86",
   "metadata": {},
   "outputs": [
    {
     "name": "stdout",
     "output_type": "stream",
     "text": [
      "(['a', 'd', 'c', 'f', 'c', 'e', 'c', 'a', 'b'], 5.0)\n",
      "([0, 4, 3, 2, 4, 1, 3, 0, 2, 1], 10.0)\n",
      "([0, 4, 1, 2, 1, 3, 0, 2], 8.0)\n"
     ]
    }
   ],
   "source": [
    "print(ChinesePostmanProblem(G))\n",
    "print(ChinesePostmanProblem(nx.complete_graph(5)))\n",
    "print(ChinesePostmanProblem(nx.complete_bipartite_graph(2, 3)))"
   ]
  },
  {
   "cell_type": "code",
   "execution_count": 801,
   "id": "04e7eb01",
   "metadata": {},
   "outputs": [],
   "source": [
    "def RuralPostmanProblemBaseline(G: nx.MultiGraph):\n",
    "    edges = G.edges(data = True)\n",
    "    main_edges = list(filter(lambda ed: not \"travel\" in ed[2] or not ed[2][\"travel\"], edges))\n",
    "    travel_edges = list(filter(lambda ed: \"travel\" in ed[2] and ed[2][\"travel\"], edges))\n",
    "    \n",
    "    base_H = nx.MultiGraph(main_edges)\n",
    "    \n",
    "    best = None\n",
    "    for st in powerset(travel_edges):\n",
    "        H = nx.MultiGraph(base_H)\n",
    "        H.add_edges_from(st)\n",
    "        \n",
    "        if (not semi_connected(H)):\n",
    "            continue\n",
    "        \n",
    "        w = ChinesePostmanProblem(H, return_cycle = False)\n",
    "        \n",
    "        if (best is None or best[0] > w):\n",
    "            best = (w, st)\n",
    "    \n",
    "    base_H.add_edges_from(best[1])\n",
    "    cycle, w = ChinesePostmanProblem(base_H)\n",
    "    \n",
    "    return cycle, w\n"
   ]
  },
  {
   "cell_type": "code",
   "execution_count": 742,
   "id": "078ce29f",
   "metadata": {},
   "outputs": [
    {
     "data": {
      "text/plain": [
       "(['a', 'c', 'f', 'c', 'e', 'c', 'd'], 38.0)"
      ]
     },
     "execution_count": 742,
     "metadata": {},
     "output_type": "execute_result"
    }
   ],
   "source": [
    "H = nx.Graph()\n",
    "\n",
    "H.add_edge(\"a\", \"b\", weight=6, travel=True)\n",
    "H.add_edge(\"a\", \"c\", weight=2, travel=True)\n",
    "H.add_edge(\"c\", \"d\", weight=1, travel=True)\n",
    "H.add_edge(\"c\", \"e\", weight=7)\n",
    "H.add_edge(\"c\", \"f\", weight=9)\n",
    "H.add_edge(\"a\", \"d\", weight=3)\n",
    "\n",
    "RuralPostmanProblemBaseline(H)"
   ]
  },
  {
   "cell_type": "code",
   "execution_count": 743,
   "id": "98089260",
   "metadata": {},
   "outputs": [],
   "source": [
    "class RPPSubproblem:\n",
    "\n",
    "    def __init__(self, G, task):\n",
    "        self.G = nx.MultiGraph(G)\n",
    "        self.cost = math.inf\n",
    "        self.task = task\n",
    "        \n",
    "        if (semi_connected(G)):\n",
    "            self.cost = ChinesePostmanProblem(G, return_cycle = False)\n",
    "\n",
    "\n",
    "    def __lt__(self, p):\n",
    "        return self.cost < p.cost\n"
   ]
  },
  {
   "cell_type": "code",
   "execution_count": 744,
   "id": "60350077",
   "metadata": {},
   "outputs": [],
   "source": [
    "def get_max_otp(nodes, otp):\n",
    "    ans = None\n",
    "    for u, v in combinations(nodes, 2):\n",
    "        if (otp[u][v] is None):\n",
    "            continue\n",
    "\n",
    "        if (ans is None or ans[0] < otp[u][v]):\n",
    "            ans = (otp[u][v], u, v)\n",
    "            \n",
    "    return ans\n",
    "\n",
    "\n",
    "def get_min_otp(nodes, otp):\n",
    "    ans = None\n",
    "    for u, v in combinations(nodes, 2):\n",
    "        if (otp[u][v] is None):\n",
    "            continue\n",
    "\n",
    "        if (ans is None or ans[0] > otp[u][v]):\n",
    "            ans = (otp[u][v], u, v)\n",
    "            \n",
    "    return ans\n",
    "\n",
    "\n",
    "def get_random_otp(nodes, otp):\n",
    "    res = []\n",
    "    for u, v in combinations(nodes, 2):\n",
    "        if (otp[u][v] is None):\n",
    "            continue\n",
    "\n",
    "        res.append((otp[u][v], u, v))\n",
    "    \n",
    "    if (len(res) == 0):\n",
    "        return None\n",
    "    \n",
    "    return res[np.random.randint(len(res))]\n"
   ]
  },
  {
   "cell_type": "code",
   "execution_count": 930,
   "id": "110b3709",
   "metadata": {},
   "outputs": [],
   "source": [
    "def RuralPostmanProblem(G: nx.MultiGraph, get_otp = get_max_otp, return_stats = False):\n",
    "    edges = G.edges(data = True)\n",
    "    main_edges = list(filter(lambda ed: not \"travel\" in ed[2] or not ed[2][\"travel\"], edges))\n",
    "    travel_edges = list(filter(lambda ed: \"travel\" in ed[2] and ed[2][\"travel\"], edges))\n",
    "    \n",
    "    if (len(travel_edges) == 0):\n",
    "        cycle, w = ChinesePostmanProblem(G)\n",
    "        return (cycle, w, 0, 0) if (return_stats) else (cycle, w)\n",
    "    \n",
    "    nodes = list(G.nodes)\n",
    "    \n",
    "    travel_dist = { v: dict() for v in nodes }\n",
    "    true_dist = { v: dict() for v in nodes }\n",
    "    \n",
    "    for u, v in combinations(nodes, 2):\n",
    "        travel_dist[u][v] = math.inf\n",
    "        travel_dist[v][u] = math.inf\n",
    "        \n",
    "        true_dist[u][v] = math.inf\n",
    "        true_dist[v][u] = math.inf\n",
    "    \n",
    "    travel_G = nx.MultiGraph(travel_edges)\n",
    "    \n",
    "    for u, dist in nx.all_pairs_dijkstra_path_length(travel_G):\n",
    "        for v, w in dist.items():\n",
    "            travel_dist[u][v] = w\n",
    "            travel_dist[v][u] = w\n",
    "    \n",
    "    for u, dist in nx.all_pairs_dijkstra_path_length(G):\n",
    "        for v, w in dist.items():\n",
    "            true_dist[u][v] = w\n",
    "            true_dist[v][u] = w\n",
    "\n",
    "    cover_G = nx.MultiGraph(main_edges)\n",
    "    cover_G.add_nodes_from(travel_G.nodes)\n",
    "    \n",
    "    comp = { v: None for v in nodes }\n",
    "    for label, component in enumerate(nx.connected_components(cover_G)):\n",
    "        for v in component:\n",
    "            comp[v] = label\n",
    "            \n",
    "    otp = { v: {v: None} for v in nodes }\n",
    "    ot_path = { (u, v): None for u, v in combinations(nodes, 2) }\n",
    "    for u, v in combinations(nodes, 2):\n",
    "        otp[u][v] = None\n",
    "        \n",
    "        if (comp[u] != comp[v] and \\\n",
    "            travel_dist[u][v] != math.inf and \\\n",
    "            true_dist[u][v] != math.inf and \\\n",
    "            travel_dist[u][v] == true_dist[u][v]):\n",
    "            #not (comp[u] is None) and \\\n",
    "            #not (comp[v] is None) and \\\n",
    "            #comp[u] != comp[v]):\n",
    "            \n",
    "            otp[u][v] = true_dist[u][v]\n",
    "            \n",
    "            #print(travel_G.edges(data = True))\n",
    "            #print(u, v, comp[u], comp[v], travel_dist[u][v], true_dist[u][v])\n",
    "            \n",
    "            sp = nx.shortest_path(travel_G, u, v, weight = \"weight\")\n",
    "            ot_path[(u, v)] = []\n",
    "            \n",
    "            for i in range(1, len(sp)):\n",
    "                ot_path[(u, v)].append((sp[i - 1], sp[i], G.edges[sp[i - 1], sp[i]]))\n",
    "        \n",
    "        otp[v][u] = otp[u][v]\n",
    "        \n",
    "        if (not (otp[u][v] is None)):\n",
    "            for e in ot_path[(u, v)]:\n",
    "                cover_G.add_edge(e[0], e[1], key = (u, v), weight = 0)\n",
    "    \n",
    "    del travel_dist, true_dist, travel_G\n",
    "    \n",
    "    otp_seq = []\n",
    "    res = get_otp(nodes, otp)\n",
    "    while (not (res is None)):\n",
    "        w, u, v = res\n",
    "        otp[u][v] = None\n",
    "        otp[v][u] = None\n",
    "        \n",
    "        otp_seq.append((w, u, v))\n",
    "        \n",
    "        res = get_otp(nodes, otp)\n",
    "        \n",
    "    pq = []\n",
    "    hpq.heappush(pq, RPPSubproblem(cover_G, 0))\n",
    "    del cover_G\n",
    "    \n",
    "    iter_count = 0\n",
    "    while (len(pq) > 0):\n",
    "        iter_count += 1\n",
    "        s = hpq.heappop(pq)\n",
    "        cur_G = s.G\n",
    "        task = s.task\n",
    "        if (task >= len(otp_seq)):\n",
    "            cycle, w = ChinesePostmanProblem(cur_G)\n",
    "            return (cycle, w, iter_count, len(otp_seq)) if (return_stats) else (cycle, w)\n",
    "\n",
    "        w, u, v = otp_seq[task]\n",
    "        \n",
    "        #print(u, v, w)\n",
    "        \n",
    "        #print(cur_G.edges(data = True))\n",
    "        #print()\n",
    "        \n",
    "        #cur_G.remove_edge(u, v, key = (u, v, 0))\n",
    "        for e in ot_path[(u, v)]:\n",
    "            cur_G.remove_edge(e[0], e[1], key = (u, v))\n",
    "        \n",
    "        hpq.heappush(pq, RPPSubproblem(cur_G, task + 1))\n",
    "        \n",
    "        #print(cur_G.edges(data = True))\n",
    "        #print()\n",
    "        \n",
    "        #cur_G.add_edge(u, v, key = (u, v, w), weight = w)\n",
    "        for e in ot_path[(u, v)]:\n",
    "            cur_G.add_edge(e[0], e[1], key = (u, v), weight = e[2][\"weight\"])\n",
    "        \n",
    "        hpq.heappush(pq, RPPSubproblem(cur_G, task + 1))\n",
    "        \n",
    "        #print(cur_G.edges(data = True))\n",
    "        #print()\n",
    "        \n",
    "    raise Exception(\"something has gone completely wrong...\")\n"
   ]
  },
  {
   "cell_type": "code",
   "execution_count": 931,
   "id": "e7d05c06",
   "metadata": {
    "scrolled": false
   },
   "outputs": [
    {
     "name": "stdout",
     "output_type": "stream",
     "text": [
      "(['a', 'c', 'f', 'c', 'e', 'c', 'd'], 38.0)\n",
      "(['a', 'c', 'f', 'c', 'e', 'c', 'd'], 38.0)\n",
      "(['a', 'c', 'f', 'c', 'e', 'c', 'd'], 38.0)\n"
     ]
    }
   ],
   "source": [
    "print(RuralPostmanProblem(H, get_max_otp))\n",
    "print(RuralPostmanProblem(H, get_min_otp))\n",
    "print(RuralPostmanProblem(H, get_random_otp))"
   ]
  },
  {
   "cell_type": "code",
   "execution_count": 933,
   "id": "94baa957",
   "metadata": {},
   "outputs": [],
   "source": [
    "def load_graph(path, weighted = False, integer_labels = True):\n",
    "    G = nx.Graph()\n",
    "    \n",
    "    with open(path, \"r\") as file:\n",
    "        for line in file.readlines()[1 :]:\n",
    "            tokens = line.strip().split()\n",
    "            \n",
    "            if (integer_labels):\n",
    "                tokens[0 : 2] = list(map(int, tokens[0 : 2]))\n",
    "            \n",
    "            if (weighted):\n",
    "                tokens[2] = float(tokens[2])\n",
    "            \n",
    "            if (not weighted):\n",
    "                G.add_edge(tokens[0], tokens[1], weight = 1)\n",
    "            else:\n",
    "                G.add_edge(tokens[0], tokens[1], weight = tokens[2])\n",
    "                \n",
    "    return G\n"
   ]
  },
  {
   "cell_type": "code",
   "execution_count": 972,
   "id": "6141f64a",
   "metadata": {},
   "outputs": [],
   "source": [
    "G = load_graph(\"data/road-chesapeake.txt\", weighted = False)"
   ]
  },
  {
   "cell_type": "code",
   "execution_count": 973,
   "id": "2f46960a",
   "metadata": {},
   "outputs": [],
   "source": [
    "edges = list(G.edges)\n",
    "ind = np.random.choice(np.arange(len(edges)), size = 7)\n",
    "\n",
    "for i in ind:\n",
    "    u, v = edges[i]\n",
    "    G.edges[u, v][\"travel\"] = True"
   ]
  },
  {
   "cell_type": "code",
   "execution_count": 974,
   "id": "35864361",
   "metadata": {
    "scrolled": false
   },
   "outputs": [
    {
     "name": "stdout",
     "output_type": "stream",
     "text": [
      "CPU times: user 251 ms, sys: 15 µs, total: 251 ms\n",
      "Wall time: 252 ms\n",
      "(172.0, 1, 0)\n",
      "CPU times: user 302 ms, sys: 3.99 ms, total: 306 ms\n",
      "Wall time: 308 ms\n",
      "(172.0, 1, 0)\n",
      "CPU times: user 126 ms, sys: 0 ns, total: 126 ms\n",
      "Wall time: 125 ms\n",
      "(172.0, 1, 0)\n"
     ]
    }
   ],
   "source": [
    "%time res = RuralPostmanProblem(G, get_otp = get_max_otp, return_stats = True)\n",
    "print(res[1 :])\n",
    "\n",
    "%time res = RuralPostmanProblem(G, get_otp = get_min_otp, return_stats = True)\n",
    "print(res[1 :])\n",
    "\n",
    "%time res = RuralPostmanProblem(G, get_otp = get_random_otp, return_stats = True)\n",
    "print(res[1 :])"
   ]
  },
  {
   "cell_type": "code",
   "execution_count": 1047,
   "id": "7ee78ee1",
   "metadata": {
    "scrolled": false
   },
   "outputs": [],
   "source": [
    "max_times = []\n",
    "min_times = []\n",
    "random_times = []\n",
    "\n",
    "def run_tests():\n",
    "    for sz in range(5, 81, 5):\n",
    "        print(\"sz =\", sz)\n",
    "\n",
    "        iter_count = 10\n",
    "        overall_max, overall_min, overall_random = 0.0, 0.0, 0.0\n",
    "        for it in range(iter_count):\n",
    "            G = load_graph(\"graph_data/road-chesapeake.txt\", weighted = False)\n",
    "            edges = list(G.edges)\n",
    "            ind = np.random.choice(np.arange(len(edges)), size = sz)\n",
    "\n",
    "            for i in ind:\n",
    "                u, v = edges[i]\n",
    "                G.edges[u, v][\"travel\"] = True\n",
    "        \n",
    "            start = time.time()\n",
    "            res = RuralPostmanProblem(G, get_otp = get_max_otp, return_stats = True)\n",
    "            end = time.time()\n",
    "            overall_max += (end - start)\n",
    "\n",
    "            start = time.time()\n",
    "            res = RuralPostmanProblem(G, get_otp = get_min_otp, return_stats = True)\n",
    "            end = time.time()\n",
    "            overall_min += (end - start)\n",
    "\n",
    "            start = time.time()\n",
    "            res = RuralPostmanProblem(G, get_otp = get_random_otp, return_stats = True)\n",
    "            end = time.time()\n",
    "            overall_random += (end - start)\n",
    "        \n",
    "        print(overall_max / iter_count, overall_min / iter_count, overall_random / iter_count)\n",
    "\n",
    "run_tests()"
   ]
  },
  {
   "cell_type": "code",
   "execution_count": 1048,
   "id": "3cd10814",
   "metadata": {},
   "outputs": [
    {
     "data": {
      "image/png": "[encoded data removed]",
      "text/plain": [
       "<Figure size 1080x720 with 1 Axes>"
      ]
     },
     "metadata": {
      "needs_background": "light"
     },
     "output_type": "display_data"
    }
   ],
   "source": [
    "plt.rcParams[\"figure.figsize\"] = (15, 10)\n",
    "\n",
    "plt.plot(np.arange(5, 61, 5), max_times, label = \"max_otp\")\n",
    "plt.plot(np.arange(5, 61, 5), min_times, label = \"min_otp\")\n",
    "plt.plot(np.arange(5, 61, 5), random_times, label = \"random_otp\")\n",
    "\n",
    "plt.legend()\n",
    "plt.show()"
   ]
  },
  {
   "cell_type": "code",
   "execution_count": 1049,
   "id": "1314904f",
   "metadata": {},
   "outputs": [
    {
     "data": {
      "image/png": "[encoded data removed]",
      "text/plain": [
       "<Figure size 1080x720 with 1 Axes>"
      ]
     },
     "metadata": {
      "needs_background": "light"
     },
     "output_type": "display_data"
    }
   ],
   "source": [
    "plt.rcParams[\"figure.figsize\"] = (15, 10)\n",
    "\n",
    "plt.plot(np.arange(5, 61, 5), np.log(1 + max_times), label = \"max_otp\")\n",
    "plt.plot(np.arange(5, 61, 5), np.log(1 + min_times), label = \"min_otp\")\n",
    "plt.plot(np.arange(5, 61, 5), np.log(1 + random_times), label = \"random_otp\")\n",
    "\n",
    "plt.legend()\n",
    "plt.show()"
   ]
  },
  {
   "cell_type": "code",
   "execution_count": null,
   "id": "b4018c49",
   "metadata": {},
   "outputs": [],
   "source": []
  }
 ],
 "metadata": {
  "kernelspec": {
   "display_name": "Python 3 (ipykernel)",
   "language": "python",
   "name": "python3"
  },
  "language_info": {
   "codemirror_mode": {
    "name": "ipython",
    "version": 3
   },
   "file_extension": ".py",
   "mimetype": "text/x-python",
   "name": "python",
   "nbconvert_exporter": "python",
   "pygments_lexer": "ipython3",
   "version": "3.9.12"
  }
 },
 "nbformat": 4,
 "nbformat_minor": 5
}
